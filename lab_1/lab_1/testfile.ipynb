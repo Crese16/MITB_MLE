{
 "cells": [
  {
   "cell_type": "code",
   "execution_count": 1,
   "id": "70b24cdb-fe6f-4bbd-8561-bee078901eed",
   "metadata": {},
   "outputs": [
    {
     "name": "stdout",
     "output_type": "stream",
     "text": [
      "hello\n"
     ]
    }
   ],
   "source": [
    "print('hello')"
   ]
  },
  {
   "cell_type": "code",
   "execution_count": 2,
   "id": "d6ebdc7d-0297-4463-991b-d850163dd8c8",
   "metadata": {},
   "outputs": [
    {
     "name": "stdout",
     "output_type": "stream",
     "text": [
      "check if it can be trfed to git\n"
     ]
    }
   ],
   "source": [
    "print('check if it can be trfed to git')"
   ]
  },
  {
   "cell_type": "code",
   "execution_count": null,
   "id": "54735df6-c11f-4a7c-a63d-e2f924941f74",
   "metadata": {},
   "outputs": [],
   "source": []
  }
 ],
 "metadata": {
  "kernelspec": {
   "display_name": "Python 3 (ipykernel)",
   "language": "python",
   "name": "python3"
  },
  "language_info": {
   "codemirror_mode": {
    "name": "ipython",
    "version": 3
   },
   "file_extension": ".py",
   "mimetype": "text/x-python",
   "name": "python",
   "nbconvert_exporter": "python",
   "pygments_lexer": "ipython3",
   "version": "3.12.11"
  }
 },
 "nbformat": 4,
 "nbformat_minor": 5
}
