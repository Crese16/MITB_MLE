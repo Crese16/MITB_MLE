{
 "cells": [
  {
   "cell_type": "code",
   "execution_count": 4,
   "id": "862f00f6-7bc3-4e38-be91-2cdc7becc031",
   "metadata": {},
   "outputs": [
    {
     "name": "stdout",
     "output_type": "stream",
     "text": [
      "make sure really run\n"
     ]
    }
   ],
   "source": [
    "print(\"make sure really run\")"
   ]
  },
  {
   "cell_type": "code",
   "execution_count": null,
   "id": "592962a4-6ccc-4dcd-a743-5ba4c29ecedb",
   "metadata": {},
   "outputs": [],
   "source": []
  }
 ],
 "metadata": {
  "kernelspec": {
   "display_name": "Python 3 (ipykernel)",
   "language": "python",
   "name": "python3"
  },
  "language_info": {
   "codemirror_mode": {
    "name": "ipython",
    "version": 3
   },
   "file_extension": ".py",
   "mimetype": "text/x-python",
   "name": "python",
   "nbconvert_exporter": "python",
   "pygments_lexer": "ipython3",
   "version": "3.12.11"
  }
 },
 "nbformat": 4,
 "nbformat_minor": 5
}
